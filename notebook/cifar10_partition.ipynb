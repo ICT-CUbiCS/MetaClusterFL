{
 "cells": [
  {
   "cell_type": "code",
   "execution_count": null,
   "id": "8cae16a6-f6ff-4f16-84e6-c2e26a5e3d06",
   "metadata": {},
   "outputs": [],
   "source": [
    "import os\n",
    "import torch\n",
    "import torchvision\n",
    "\n",
    "import numpy as np\n",
    "import pandas as pd\n",
    "import matplotlib.pyplot as plt\n",
    "import sys\n",
    "\n",
    "from fedlab.utils.dataset.partition import CIFAR10Partitioner\n",
    "from fedlab.utils.functional import partition_report"
   ]
  },
  {
   "cell_type": "code",
   "execution_count": null,
   "id": "78c528fa",
   "metadata": {},
   "outputs": [],
   "source": [
    "num_clients = 10\n",
    "num_clusters = 10\n",
    "num_clients_per_cluster = num_clients // num_clusters\n",
    "num_classes = 10\n",
    "seed = 2021\n",
    "hist_color = '#4169E1'\n",
    "\n",
    "PROJECT_DIR = os.path.dirname(os.getcwd())\n",
    "print(PROJECT_DIR)\n",
    "CIFAR10_DIR = os.path.join(PROJECT_DIR, \"data\", \"CIFAR10\", \"raw\")\n",
    "REPORT_DIR = os.path.join(PROJECT_DIR, \"result\", \"notebook\", \"cifar10_partition\", \"report\")\n",
    "if not os.path.exists(REPORT_DIR):\n",
    "    os.makedirs(REPORT_DIR)"
   ]
  },
  {
   "cell_type": "code",
   "execution_count": null,
   "id": "22d7dbeb",
   "metadata": {},
   "outputs": [],
   "source": [
    "# 指定data文件夹下面CIFAR10的原始数据\n",
    "trainset = torchvision.datasets.CIFAR10(root=CIFAR10_DIR, train=True, download=True)"
   ]
  },
  {
   "cell_type": "code",
   "execution_count": null,
   "id": "bfcfea2c",
   "metadata": {},
   "outputs": [],
   "source": [
    "def plot_distribution(csv_file_name):\n",
    "    df = pd.read_csv(os.path.join(REPORT_DIR, f\"{csv_file_name}.csv\"), header=1)\n",
    "    df = df.set_index(\"client\")\n",
    "    col_names = [f\"class{i}\" for i in range(num_classes)]\n",
    "    for col in col_names:\n",
    "        df[col] = (df[col] * df[\"Amount\"]).astype(int)\n",
    "    df[col_names].iloc[:10].plot.barh(stacked=True)\n",
    "    plt.tight_layout()\n",
    "    plt.xlabel(\"Number of samples\")\n",
    "    plt.savefig(os.path.join(REPORT_DIR, f\"{csv_file_name}.png\"), dpi=300)"
   ]
  },
  {
   "cell_type": "code",
   "execution_count": null,
   "id": "23ceccd5",
   "metadata": {},
   "outputs": [],
   "source": [
    "def combine_partition_indices(partition_indices):\n",
    "    new_partition_indices = {\n",
    "        cluster_id: []\n",
    "        for cluster_id in range(num_clusters)\n",
    "    }\n",
    "    for cluster_id in range(num_clusters):\n",
    "        # clients_id = [cluster_id * num_clients_per_cluster + i for i in range(num_clients_per_cluster)]\n",
    "        for i in range(num_clients_per_cluster):\n",
    "            client_id = cluster_id * num_clients_per_cluster + i\n",
    "            new_partition_indices[cluster_id].extend(partition_indices[client_id])\n",
    "    return new_partition_indices"
   ]
  },
  {
   "attachments": {},
   "cell_type": "markdown",
   "id": "6be41488",
   "metadata": {},
   "source": [
    "## Dirichlet"
   ]
  },
  {
   "cell_type": "markdown",
   "id": "c9db6c18",
   "metadata": {},
   "source": [
    "### None_Dirichlet"
   ]
  },
  {
   "cell_type": "code",
   "execution_count": null,
   "id": "9186e67b",
   "metadata": {},
   "outputs": [],
   "source": [
    "cifar10_None_Dirichelet_partitioner = CIFAR10Partitioner(trainset.targets, num_clients, \n",
    "                                                         balance=None, partition=\"dirichlet\", dir_alpha=0.3, min_require_size=100, seed=seed)\n",
    "report_file_name = \"cifar10_None_Dirichelet_partitioner\"\n",
    "report_file_path = os.path.join(REPORT_DIR, f\"{report_file_name}.csv\")\n",
    "partition_report(trainset.targets, cifar10_None_Dirichelet_partitioner.client_dict, class_num=num_classes, verbose=False, file=report_file_path)\n",
    "plot_distribution(report_file_name)"
   ]
  },
  {
   "cell_type": "markdown",
   "id": "c1d417cc",
   "metadata": {},
   "source": [
    "### False_Dirichlet"
   ]
  },
  {
   "cell_type": "code",
   "execution_count": null,
   "id": "f3b388e4",
   "metadata": {},
   "outputs": [],
   "source": [
    "cifar10_False_Dirichelet_partitioner = CIFAR10Partitioner(trainset.targets, num_clients, \n",
    "                                                         balance=False, partition=\"dirichlet\", dir_alpha=0.3, unbalance_sgm=0.3, seed=seed)\n",
    "report_file_name = \"cifar10_False_Dirichelet_partitioner\"\n",
    "report_file_path = os.path.join(REPORT_DIR, f\"{report_file_name}.csv\")\n",
    "partition_report(trainset.targets, cifar10_False_Dirichelet_partitioner.client_dict, class_num=num_classes, verbose=False, file=report_file_path)\n",
    "plot_distribution(report_file_name)"
   ]
  },
  {
   "cell_type": "markdown",
   "id": "063bea94",
   "metadata": {},
   "source": [
    "### True_Dirichlet"
   ]
  },
  {
   "cell_type": "code",
   "execution_count": null,
   "id": "a9da3e86",
   "metadata": {},
   "outputs": [],
   "source": [
    "cifar10_True_Dirichelet_partitioner = CIFAR10Partitioner(trainset.targets, num_clients,\n",
    "                                                            balance=True, partition=\"dirichlet\", dir_alpha=0.3, seed=seed)\n",
    "report_file_name = \"cifar10_True_Dirichelet_partitioner\"\n",
    "report_file_path = os.path.join(REPORT_DIR, f\"{report_file_name}.csv\")\n",
    "partition_report(trainset.targets, cifar10_True_Dirichelet_partitioner.client_dict, class_num=num_classes, verbose=False, file=report_file_path)\n",
    "# partition_report(trainset.targets, combine_partition_indices(cifar10_True_Dirichelet_partitioner.client_dict), class_num=num_classes, verbose=False, file=report_file_path)\n",
    "plot_distribution(report_file_name)"
   ]
  }
 ],
 "metadata": {
  "kernelspec": {
   "display_name": "Python 3 (ipykernel)",
   "language": "python",
   "name": "python3"
  },
  "language_info": {
   "codemirror_mode": {
    "name": "ipython",
    "version": 3
   },
   "file_extension": ".py",
   "mimetype": "text/x-python",
   "name": "python",
   "nbconvert_exporter": "python",
   "pygments_lexer": "ipython3",
   "version": "3.9.16"
  }
 },
 "nbformat": 4,
 "nbformat_minor": 5
}
