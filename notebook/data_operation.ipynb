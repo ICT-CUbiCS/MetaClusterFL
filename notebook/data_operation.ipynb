{
 "cells": [
  {
   "attachments": {},
   "cell_type": "markdown",
   "id": "c00ddeda-a00f-4803-ae73-b2ff460ddc3c",
   "metadata": {},
   "source": [
    "## Train dataset\n",
    "了解 client train dataset 的基本情况, 以及一些常用属性和方法"
   ]
  },
  {
   "cell_type": "code",
   "execution_count": 1,
   "id": "fcc35118-0b45-4c72-9a16-7d160ffb47e4",
   "metadata": {},
   "outputs": [
    {
     "name": "stdout",
     "output_type": "stream",
     "text": [
      "d:\\FedLab\\MetaCluterFL\n"
     ]
    }
   ],
   "source": [
    "import sys\n",
    "import os\n",
    "import random\n",
    "\n",
    "# 将项目根目录加入到环境变量中\n",
    "PROJECT_DIR = os.path.dirname(os.getcwd())\n",
    "print(PROJECT_DIR)\n",
    "sys.path.append(PROJECT_DIR)\n",
    "\n",
    "from data.CIFAR10.partition import partition_example"
   ]
  },
  {
   "cell_type": "code",
   "execution_count": 10,
   "id": "6300afa9-de5f-404d-8408-b1036d6f61b4",
   "metadata": {},
   "outputs": [
    {
     "name": "stdout",
     "output_type": "stream",
     "text": [
      "data preprocess in Partition is already finished.\n"
     ]
    }
   ],
   "source": [
    "# 常规参数\n",
    "num_client = 50\n",
    "num_cluster = 10\n",
    "num_classes = 10\n",
    "\n",
    "# 数据准备(trainset)\n",
    "partitioner = partition_example()"
   ]
  },
  {
   "cell_type": "code",
   "execution_count": 11,
   "id": "3d06afb0-ab8e-4585-9a73-d392f8f9caf3",
   "metadata": {},
   "outputs": [
    {
     "name": "stdout",
     "output_type": "stream",
     "text": [
      "                class0  class1  class2  class3  class4  class5  class6   \n",
      "client2_train      179     215       0       0     203       0     218  \\\n",
      "client2_test       179     215       0       0     203       0     218   \n",
      "client3_train      201     213       0       0     201       0     182   \n",
      "client3_test       201     213       0       0     201       0     182   \n",
      "client6_train        0       0     406     225       0       0       0   \n",
      "client6_test         0       0     406     225       0       0       0   \n",
      "client10_train     403       0     189       0       0       0       0   \n",
      "client10_test      403       0     189       0       0       0       0   \n",
      "client11_train     399       0     203       0       0       0       0   \n",
      "client11_test      399       0     203       0       0       0       0   \n",
      "client12_train     395       0     194       0       0       0       0   \n",
      "client12_test      395       0     194       0       0       0       0   \n",
      "client13_train     412       0     194       0       0       0       0   \n",
      "client13_test      412       0     194       0       0       0       0   \n",
      "client17_train       0       0       0     228     201     203       0   \n",
      "client17_test        0       0       0     228     201     203       0   \n",
      "client24_train       0     193     213     197       0       0       0   \n",
      "client24_test        0     193     213     197       0       0       0   \n",
      "client26_train     215       0       0     188       0     405     192   \n",
      "client26_test      215       0       0     188       0     405     192   \n",
      "client27_train     195       0       0     191       0     413     201   \n",
      "client27_test      195       0       0     191       0     413     201   \n",
      "client29_train     208       0       0     209       0     396     187   \n",
      "client29_test      208       0       0     209       0     396     187   \n",
      "client33_train       0     213       0       0       0       0     185   \n",
      "client33_test        0     213       0       0       0       0     185   \n",
      "client34_train       0     201       0       0       0       0     197   \n",
      "client34_test        0     201       0       0       0       0     197   \n",
      "client35_train       0     196     212     201     194       0       0   \n",
      "client35_test        0     196     212     201     194       0       0   \n",
      "client42_train     213       0       0       0     205       0     179   \n",
      "client42_test      213       0       0       0     205       0     179   \n",
      "client43_train     189       0       0       0     204       0     194   \n",
      "client43_test      189       0       0       0     204       0     194   \n",
      "client45_train       0     184       0       0     196     409     211   \n",
      "client45_test        0     184       0       0     196     409     211   \n",
      "client47_train       0     203       0       0     177     404     216   \n",
      "client47_test        0     203       0       0     177     404     216   \n",
      "client48_train       0     199       0       0     185     407     209   \n",
      "client48_test        0     199       0       0     185     407     209   \n",
      "\n",
      "                class7  class8  class9  \n",
      "client2_train      185       0       0  \n",
      "client2_test       185       0       0  \n",
      "client3_train      203       0       0  \n",
      "client3_test       203       0       0  \n",
      "client6_train      196     173       0  \n",
      "client6_test       196     173       0  \n",
      "client10_train     207     201       0  \n",
      "client10_test      207     201       0  \n",
      "client11_train     193     205       0  \n",
      "client11_test      193     205       0  \n",
      "client12_train     206     205       0  \n",
      "client12_test      206     205       0  \n",
      "client13_train     192     202       0  \n",
      "client13_test      192     202       0  \n",
      "client17_train       0     174     194  \n",
      "client17_test        0     174     194  \n",
      "client24_train       0       0     397  \n",
      "client24_test        0       0     397  \n",
      "client26_train       0       0       0  \n",
      "client26_test        0       0       0  \n",
      "client27_train       0       0       0  \n",
      "client27_test        0       0       0  \n",
      "client29_train       0       0       0  \n",
      "client29_test        0       0       0  \n",
      "client33_train     226       0     376  \n",
      "client33_test      226       0     376  \n",
      "client34_train     186       0     416  \n",
      "client34_test      186       0     416  \n",
      "client35_train       0     197       0  \n",
      "client35_test        0     197       0  \n",
      "client42_train     186     217       0  \n",
      "client42_test      186     217       0  \n",
      "client43_train     202     211       0  \n",
      "client43_test      202     211       0  \n",
      "client45_train       0       0       0  \n",
      "client45_test        0       0       0  \n",
      "client47_train       0       0       0  \n",
      "client47_test        0       0       0  \n",
      "client48_train       0       0       0  \n",
      "client48_test        0       0       0  \n"
     ]
    },
    {
     "data": {
      "image/png": "[encoded data removed]",
      "text/plain": [
       "<Figure size 640x480 with 1 Axes>"
      ]
     },
     "metadata": {},
     "output_type": "display_data"
    }
   ],
   "source": [
    "# 绘制 partitioned_dataset 中 client 的数据的 label 分布\n",
    "partitioner.plot_train_test_label()"
   ]
  },
  {
   "cell_type": "code",
   "execution_count": 12,
   "id": "da32c8a9-efba-4783-9401-415c400fedbc",
   "metadata": {},
   "outputs": [
    {
     "name": "stdout",
     "output_type": "stream",
     "text": [
      "client_id: 1 has 1000 data\n",
      "client_dataset[0] typs: <class 'tuple'>\n",
      "client_dataset[0][0] typs: <class 'torch.Tensor'>\n",
      "client_dataset[0][1] typs: <class 'int'>\n",
      "client_features.shape: torch.Size([3, 32, 32])\n",
      "client_labels_distribution: [0.209, 0.179, 0.0, 0.0, 0.207, 0.0, 0.197, 0.208, 0.0, 0.0]\n"
     ]
    }
   ],
   "source": [
    "# 查看 partitioned_dataset 中 client 的数据\n",
    "client_id = random.randint(0, num_client - 1)\n",
    "client_dataset = partitioner.get_dataset(client_id)\n",
    "print(\"client_id: {} has {} data\".format(client_id, len(client_dataset)))\n",
    "\n",
    "# 查看 client_dataset 中的数据的 shape\n",
    "print(\"client_dataset[0] typs: {}\".format(type(client_dataset[0])))\n",
    "print(\"client_dataset[0][0] typs: {}\".format(type(client_dataset[0][0])))\n",
    "print(\"client_dataset[0][1] typs: {}\".format(type(client_dataset[0][1])))\n",
    "print(\"client_features.shape: {}\".format(client_dataset[0][0].shape))\n",
    "\n",
    "# 统计 client_dataset 中的数据的 label 分布\n",
    "def statistic_label_distribution(labels):\n",
    "    label_distribution = [0 for i in range(num_classes)]\n",
    "    \n",
    "    for label in labels:\n",
    "        label_distribution[label] += 1\n",
    "    \n",
    "    label_distribution = [num / len(labels) for num in label_distribution]\n",
    "    \n",
    "    return label_distribution\n",
    "\n",
    "client_labels = client_dataset.y\n",
    "client_labels_distribution = statistic_label_distribution(client_labels)\n",
    "print(\"client_labels_distribution: {}\".format(client_labels_distribution))"
   ]
  },
  {
   "attachments": {},
   "cell_type": "markdown",
   "id": "3dbb9827-25e5-4340-b2cd-01d3ce16029c",
   "metadata": {
    "tags": []
   },
   "source": [
    "## Test dataset\n",
    "了解 test dataset 总体数据的基本属性, 以及根据 client 的label 分布分配 client testset"
   ]
  },
  {
   "cell_type": "code",
   "execution_count": 13,
   "id": "e7b20274-5dc5-4758-b4b6-22669af04885",
   "metadata": {},
   "outputs": [],
   "source": [
    "import torchvision"
   ]
  },
  {
   "cell_type": "code",
   "execution_count": 14,
   "id": "6dc82f6b-4bae-4ae2-992d-6224f8aaeda4",
   "metadata": {},
   "outputs": [
    {
     "name": "stdout",
     "output_type": "stream",
     "text": [
      "testset.targets type: <class 'list'>\n",
      "testset.data type: <class 'numpy.ndarray'> \n",
      "\n",
      "testset.targets len: 10000\n",
      "testset.data shape: (10000, 32, 32, 3)\n"
     ]
    }
   ],
   "source": [
    "# all test dataset\n",
    "testset = torchvision.datasets.CIFAR10(root=partitioner.root, train=False, download=False, transform=partitioner.transform)\n",
    "\n",
    "# 查看 testset 对象中可用的属性\n",
    "print(\"testset.targets type: {}\".format(type(testset.targets)))\n",
    "print(\"testset.data type: {} \\n\".format(type(testset.data)))\n",
    "\n",
    "# 查看 testset 对象中的数据的 shape\n",
    "print(\"testset.targets len: {}\".format(len(testset.targets)))\n",
    "print(\"testset.data shape: {}\".format(testset.data.shape))"
   ]
  },
  {
   "cell_type": "code",
   "execution_count": 15,
   "id": "23a258c2",
   "metadata": {},
   "outputs": [
    {
     "name": "stdout",
     "output_type": "stream",
     "text": [
      "label: 0 has 1000 data\n",
      "label: 1 has 1000 data\n",
      "label: 2 has 1000 data\n",
      "label: 3 has 1000 data\n",
      "label: 4 has 1000 data\n",
      "label: 5 has 1000 data\n",
      "label: 6 has 1000 data\n",
      "label: 7 has 1000 data\n",
      "label: 8 has 1000 data\n",
      "label: 9 has 1000 data\n"
     ]
    }
   ],
   "source": [
    "# 统计 testset 中不同 label 的 index\n",
    "def statistic_label_index(labels):\n",
    "    label_index = {i:[] for i in range(num_classes)}\n",
    "    for index, label in enumerate(labels):\n",
    "        label_index[label].append(index)\n",
    "    return label_index\n",
    "\n",
    "test_labels_index = statistic_label_index(testset.targets)\n",
    "# print(\"test_labels_index: {}\".format(test_labels_index))\n",
    "for k, v in test_labels_index.items():\n",
    "    print(\"label: {} has {} data\".format(k, len(v)))"
   ]
  },
  {
   "cell_type": "code",
   "execution_count": 16,
   "id": "e062322f-e421-49ad-ad11-322c1c1f6ce7",
   "metadata": {},
   "outputs": [
    {
     "name": "stdout",
     "output_type": "stream",
     "text": [
      "client_labels_distribution: [0.209, 0.179, 0.0, 0.0, 0.207, 0.0, 0.197, 0.208, 0.0, 0.0]\n",
      "client_sample_test_labels_distribution: [0.209, 0.179, 0.0, 0.0, 0.207, 0.0, 0.197, 0.208, 0.0, 0.0]\n"
     ]
    }
   ],
   "source": [
    "# 根据 client_labels_distribution 从 testset 中抽取数据\n",
    "def sample_client_test_data(distribution, testset_data, testset_labels):\n",
    "    sample_indices = []\n",
    "    for label, rate in enumerate(distribution):\n",
    "        num = int(rate * len(test_labels_index[label]))\n",
    "        sample_indices.extend(random.sample(test_labels_index[label], num))\n",
    "    \n",
    "    client_sample_test_features = []\n",
    "    client_sample_test_labels = []\n",
    "    for idx in sample_indices:\n",
    "        client_sample_test_features.append(testset_data[idx])\n",
    "        client_sample_test_labels.append(testset_labels[idx])\n",
    "    \n",
    "    return client_sample_test_features, client_sample_test_labels\n",
    "\n",
    "\n",
    "print(\"client_labels_distribution: {}\".format(client_labels_distribution))\n",
    "client_sample_test_features, client_sample_test_labels = sample_client_test_data(client_labels_distribution, testset.data, testset.targets)\n",
    "\n",
    "client_sample_test_labels_distribution = statistic_label_distribution(client_sample_test_labels)\n",
    "print(\"client_sample_test_labels_distribution: {}\".format(client_sample_test_labels_distribution))"
   ]
  },
  {
   "attachments": {},
   "cell_type": "markdown",
   "id": "4471dab8",
   "metadata": {},
   "source": [
    "## DataLoader 中 data.shape 的变化\n",
    "从下面的例子中可知：\n",
    "\n",
    "对于 dataloader 中的数据, 直接通过 index 取得的数据 shape 为 (32, 32, 3)\n",
    "\n",
    "而对 dataloader 进行遍历, 则其数据 shape 变为 (3, 32, 32)\n",
    "\n",
    "对于 dataset 中的数据, 无论是直接用 index 取, 还是通过遍历获取, 其数据 shape 都为 (3, 32, 32)"
   ]
  },
  {
   "cell_type": "code",
   "execution_count": 17,
   "id": "b7a41c73",
   "metadata": {},
   "outputs": [
    {
     "name": "stdout",
     "output_type": "stream",
     "text": [
      "testset.data[0] shape: (32, 32, 3)\n",
      "iter_testset.data[0] shape: torch.Size([3, 32, 32])\n",
      "forloop testset.data[0] shape: torch.Size([3, 32, 32])\n",
      "client_dataset[0][0] shape: torch.Size([3, 32, 32])\n",
      "forloop client_dataset[0][0] shape: torch.Size([3, 32, 32])\n",
      "client_dataloader data shape: torch.Size([64, 3, 32, 32])\n"
     ]
    }
   ],
   "source": [
    "print(\"testset.data[0] shape: {}\".format(testset.data[0].shape))\n",
    "\n",
    "iter_testset = iter(testset)\n",
    "data = next(iter_testset)\n",
    "print(\"iter_testset.data[0] shape: {}\".format(data[0].shape))\n",
    "\n",
    "for data, label in testset:\n",
    "    print(\"forloop testset.data[0] shape: {}\".format(data.shape))\n",
    "    break\n",
    "\n",
    "print(\"client_dataset[0][0] shape: {}\".format(client_dataset[0][0].shape))\n",
    "for data, label in client_dataset:\n",
    "    print(\"forloop client_dataset[0][0] shape: {}\".format(data.shape))\n",
    "    break\n",
    "\n",
    "# client_dataloader 是 client_dataset 经过 DataLoader 封装后的对象\n",
    "client_dataloader = partitioner.get_dataloader(10, batch_size=64)\n",
    "for data, label in client_dataloader:\n",
    "    print(\"client_dataloader data shape: {}\".format(data.shape))\n",
    "    break"
   ]
  },
  {
   "attachments": {},
   "cell_type": "markdown",
   "id": "0d3f48b9-5b24-4fea-8f01-7e66c15841f1",
   "metadata": {},
   "source": [
    "## Dataloader 获取批数据的变化\n",
    "每次 dataset.get_dataloader, 数据总量不变, 数据的出现顺序发生改变"
   ]
  },
  {
   "cell_type": "code",
   "execution_count": 18,
   "id": "c9b3cfa4-0628-4517-aa73-e3af278c1dd2",
   "metadata": {},
   "outputs": [],
   "source": [
    "def get_data_batch(dataset, client_id, batch_size):\n",
    "    dataloader = dataset.get_dataloader(client_id, batch_size)\n",
    "    iter_dataloader = iter(dataloader)\n",
    "    try:\n",
    "        x,y = next(iter_dataloader)\n",
    "    except StopIteration:\n",
    "        iter_dataloader = iter(dataloader)\n",
    "        x,y = next(iter_dataloader)\n",
    "    return x,y"
   ]
  },
  {
   "cell_type": "code",
   "execution_count": 19,
   "id": "3c4900b4-4697-486c-b72c-3b2161dea333",
   "metadata": {
    "tags": []
   },
   "outputs": [
    {
     "name": "stdout",
     "output_type": "stream",
     "text": [
      "tensor([-0.1059, -0.1059, -0.1059, -0.1059, -0.1059, -0.1059, -0.1059, -0.1059,\n",
      "        -0.1059, -0.1059, -0.1059, -0.1059, -0.1059, -0.1059, -0.1059, -0.1059,\n",
      "        -0.1059, -0.1059, -0.1059, -0.1059, -0.1059, -0.1059, -0.1059, -0.1059,\n",
      "        -0.1059, -0.1059, -0.1059, -0.1059, -0.1059, -0.1059, -0.1059, -0.0902])\n",
      "tensor([ 1.0000,  0.9608,  0.9373,  0.9451,  0.9765,  0.7255,  0.1373, -0.2000,\n",
      "        -0.1843,  0.4745,  0.9843,  0.9843,  0.9843,  0.9843,  0.9843,  0.9843,\n",
      "         0.9843,  0.9843,  0.9843,  0.9843,  0.9843,  0.9843,  0.9843,  0.9843,\n",
      "         0.9843,  0.9843,  0.9843,  0.9843,  0.9843,  0.9843,  0.9765,  1.0000])\n"
     ]
    }
   ],
   "source": [
    "data_batch_1 = get_data_batch(partitioner, 1, 64)\n",
    "print(data_batch_1[0][0][0][0])\n",
    "\n",
    "data_batch_2 = get_data_batch(partitioner, 1, 64)\n",
    "print(data_batch_2[0][0][0][0])"
   ]
  },
  {
   "cell_type": "code",
   "execution_count": 20,
   "id": "20790bb1-5807-43a1-b0ec-af2bdf9264ff",
   "metadata": {},
   "outputs": [
    {
     "name": "stdout",
     "output_type": "stream",
     "text": [
      "client_data_total: 1000\n"
     ]
    }
   ],
   "source": [
    "# 数据总量不变\n",
    "client_dataload = partitioner.get_dataloader(1, 64)\n",
    "client_data_total = 0\n",
    "for data, label in client_dataload:\n",
    "    client_data_total += len(data)\n",
    "print(\"client_data_total: {}\".format(client_data_total))"
   ]
  }
 ],
 "metadata": {
  "kernelspec": {
   "display_name": "Python 3 (ipykernel)",
   "language": "python",
   "name": "python3"
  },
  "language_info": {
   "codemirror_mode": {
    "name": "ipython",
    "version": 3
   },
   "file_extension": ".py",
   "mimetype": "text/x-python",
   "name": "python",
   "nbconvert_exporter": "python",
   "pygments_lexer": "ipython3",
   "version": "3.9.16"
  }
 },
 "nbformat": 4,
 "nbformat_minor": 5
}
