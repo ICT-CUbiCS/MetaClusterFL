{
 "cells": [
  {
   "cell_type": "markdown",
   "id": "9f8c38a5",
   "metadata": {},
   "source": [
    "## 测试不同深度神经网络模型在不同数据上的性能\n",
    "即对比模型在相同数据上的性能，也侧面反映数据划分是否存在问题"
   ]
  },
  {
   "cell_type": "code",
   "execution_count": null,
   "id": "70ad2ed2",
   "metadata": {},
   "outputs": [],
   "source": [
    "import os\n",
    "import sys\n",
    "\n",
    "import torch\n",
    "import torchvision\n",
    "import torchvision.transforms as transforms\n",
    "from torch.utils.data import DataLoader\n",
    "\n",
    "# 将项目根目录加入环境变量\n",
    "PROJECT_DIR = os.path.dirname(os.getcwd())\n",
    "sys.path.append(PROJECT_DIR)\n",
    "print(PROJECT_DIR)\n",
    "\n",
    "from utils import read_options"
   ]
  },
  {
   "cell_type": "code",
   "execution_count": null,
   "id": "8bd6b860",
   "metadata": {},
   "outputs": [],
   "source": [
    "config, cluster_partitioner, model = read_options()"
   ]
  },
  {
   "cell_type": "code",
   "execution_count": null,
   "id": "ac026158",
   "metadata": {},
   "outputs": [],
   "source": [
    "num_cluster = config['num_cluster']\n",
    "num_client = config['num_client']\n",
    "batch_size = config['local_bs']\n",
    "num_client_per_cluster = int(num_client / num_cluster)\n",
    "device = torch.device('cuda:0' if torch.cuda.is_available() else 'cpu')\n",
    "\n",
    "client_list = [i*num_client_per_cluster for i in range(num_cluster)]\n",
    "\n",
    "model_file_dir = os.path.join(PROJECT_DIR, 'result', 'models', 'notebook', 'model_test')"
   ]
  },
  {
   "cell_type": "code",
   "execution_count": null,
   "id": "9c5df8fb",
   "metadata": {},
   "outputs": [],
   "source": [
    "def train_model_init(model_name: str):\n",
    "    model_existed = False\n",
    "    train_model = model()\n",
    "    model_file_dir = os.path.join(PROJECT_DIR, 'result', 'models', 'notebook', 'model_test')\n",
    "    model_file_path = os.path.join(model_file_dir, \"{}_{}_{}.pth\".format(config['dataset'], config['model'], model_name))\n",
    "    if os.path.exists(model_file_path):\n",
    "        print(\"Loading model from {}\".format(model_file_path))\n",
    "        train_model.load_state_dict(torch.load(model_file_path))\n",
    "        model_existed = True\n",
    "    train_criteria = torch.nn.CrossEntropyLoss()\n",
    "    train_optimizer = torch.optim.SGD(train_model.parameters(), lr=0.001)\n",
    "    return train_model, train_criteria, train_optimizer, model_existed"
   ]
  },
  {
   "cell_type": "code",
   "execution_count": null,
   "id": "729367a1",
   "metadata": {},
   "outputs": [],
   "source": [
    "def origin_data_init():\n",
    "    raw_data_dir = os.path.join(PROJECT_DIR, 'data', config['dataset'], 'raw')\n",
    "    transform_train = transforms.Compose([\n",
    "        transforms.ToTensor(),\n",
    "        transforms.Normalize((0.5070751592371323, 0.48654887331495095, 0.4409178433670343), \n",
    "                            (0.2673342858792401, 0.2564384629170883, 0.27615047132568404)) \n",
    "    ])\n",
    "    cifar100_trainset = torchvision.datasets.CIFAR100(root=raw_data_dir, train=True, download=True, transform=transform_train)\n",
    "    cifar100_trainloader = DataLoader(cifar100_trainset, batch_size=batch_size, shuffle=True, num_workers=2)\n",
    "\n",
    "    cifar100_testset = torchvision.datasets.CIFAR100(root=raw_data_dir, train=False, download=True, transform=transform_train)\n",
    "    cifar100_testloader = DataLoader(cifar100_testset, batch_size=batch_size, shuffle=False, num_workers=2)\n",
    "    return cifar100_trainloader, cifar100_testloader"
   ]
  },
  {
   "cell_type": "code",
   "execution_count": null,
   "id": "491fb97c",
   "metadata": {},
   "outputs": [],
   "source": [
    "def train(train_model: torch.nn.Module, train_criteria, train_optimizer, trainloader, epoch):\n",
    "    train_model.train()\n",
    "    train_model.to(device)\n",
    "    running_loss = 0.0\n",
    "    for epoch in range(epoch):\n",
    "        for batch_idx, (inputs, targets) in enumerate(trainloader):\n",
    "            inputs, targets = inputs.to(device), targets.to(device)\n",
    "            train_optimizer.zero_grad()\n",
    "            outputs = train_model(inputs)\n",
    "            loss = train_criteria(outputs, targets)\n",
    "            loss.backward()\n",
    "            train_optimizer.step()\n",
    "\n",
    "            running_loss += loss.item()\n",
    "\n",
    "        if (epoch + 1) % 10 == 0:\n",
    "            print('Epoch: %d, Loss: %.3f' % (epoch + 1, running_loss / (10 * len(trainloader))))\n",
    "            running_loss = 0.0\n",
    "    print('Finished Training\\n')"
   ]
  },
  {
   "cell_type": "code",
   "execution_count": null,
   "id": "e6e3861d",
   "metadata": {},
   "outputs": [],
   "source": [
    "def test(train_model: torch.nn.Module, testloader: DataLoader):\n",
    "    correct_1 = 0\n",
    "    correct_5 = 0\n",
    "    # since we're not training, we don't need to calculate the gradients for our outputs\n",
    "    with torch.no_grad():\n",
    "        train_model.to(device)\n",
    "        train_model.eval()\n",
    "        for images, labels in testloader:\n",
    "            images, labels = images.to(device), labels.to(device)\n",
    "            outputs = train_model(images)\n",
    "            _, pred = outputs.topk(5, 1, largest=True, sorted=True)\n",
    "\n",
    "            labels = labels.view(labels.size(0), -1).expand_as(pred)\n",
    "            correct = pred.eq(labels).float()\n",
    "\n",
    "            # compute top 5\n",
    "            correct_5 += correct[:, :5].sum()\n",
    "\n",
    "            # compute top 1\n",
    "            correct_1 += correct[:, :1].sum()\n",
    "\n",
    "    print(\"correct_1: \", correct_1/len(testloader.dataset))\n",
    "    print(\"correct_5: \", correct_5/len(testloader.dataset))"
   ]
  },
  {
   "cell_type": "code",
   "execution_count": null,
   "id": "1b19a8ab",
   "metadata": {},
   "outputs": [],
   "source": [
    "def save_model(model_name, train_model: torch.nn.Module):\n",
    "    if not os.path.exists(model_file_dir):\n",
    "        os.makedirs(model_file_dir)\n",
    "    model_file_path = os.path.join(model_file_dir, \"{}_{}_{}.pth\".format(config['dataset'], config['model'], model_name))\n",
    "    torch.save(train_model.state_dict(), model_file_path)"
   ]
  },
  {
   "cell_type": "markdown",
   "id": "fb3a8520",
   "metadata": {},
   "source": [
    "### 原始数据训练与测试"
   ]
  },
  {
   "cell_type": "code",
   "execution_count": null,
   "id": "84e23e5b",
   "metadata": {},
   "outputs": [],
   "source": [
    "train_model_1, train_criteria_1, train_optimizer_1, model_existed = train_model_init('model_1')\n",
    "train_loader_1, test_loader_1 = origin_data_init()\n",
    "if model_existed:\n",
    "    print(\"Model existed, skip training\")\n",
    "    test(train_model_1, test_loader_1)\n",
    "else:\n",
    "    train(train_model_1, train_criteria_1, train_optimizer_1, train_loader_1, 100)\n",
    "    test(train_model_1, test_loader_1)\n",
    "    save_model('model_1', train_model_1)"
   ]
  },
  {
   "cell_type": "markdown",
   "id": "84592c52",
   "metadata": {},
   "source": [
    "### 划分数据训练与测试"
   ]
  },
  {
   "cell_type": "code",
   "execution_count": null,
   "id": "8fada601",
   "metadata": {},
   "outputs": [],
   "source": [
    "train_model_2, train_criteria_2, train_optimizer_2, model_existed = train_model_init('model_2')\n",
    "test_loader_2 = cluster_partitioner.get_cluster_dataloader(client_list, config['local_bs'], type='test')\n",
    "if model_existed:\n",
    "    print(\"Model existed, skip training\")\n",
    "    test(train_model_2, test_loader_2)\n",
    "else:\n",
    "    train_loader_2 = cluster_partitioner.get_cluster_dataloader(client_list, config['local_bs'])\n",
    "    train(train_model_2, train_criteria_2, train_optimizer_2, train_loader_2, 100)\n",
    "    test(train_model_2, test_loader_2)\n",
    "    save_model('model_2', train_model_2)"
   ]
  }
 ],
 "metadata": {
  "kernelspec": {
   "display_name": "Python 3 (ipykernel)",
   "language": "python",
   "name": "python3"
  },
  "language_info": {
   "codemirror_mode": {
    "name": "ipython",
    "version": 3
   },
   "file_extension": ".py",
   "mimetype": "text/x-python",
   "name": "python",
   "nbconvert_exporter": "python",
   "pygments_lexer": "ipython3",
   "version": "3.9.16"
  }
 },
 "nbformat": 4,
 "nbformat_minor": 5
}
